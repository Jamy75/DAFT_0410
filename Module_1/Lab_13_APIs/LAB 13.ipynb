{
 "cells": [
  {
   "cell_type": "markdown",
   "id": "383aed7a",
   "metadata": {},
   "source": [
    "Challenge 1: Get a Picture"
   ]
  },
  {
   "cell_type": "code",
   "execution_count": null,
   "id": "2a9e5972",
   "metadata": {},
   "outputs": [],
   "source": [
    "import requests\n",
    "import json\n",
    "from pandas.io.json import json_normalize"
   ]
  },
  {
   "cell_type": "code",
   "execution_count": 18,
   "id": "204c396b",
   "metadata": {},
   "outputs": [],
   "source": [
    "response = requests.get('https://xkcd.com')"
   ]
  },
  {
   "cell_type": "code",
   "execution_count": 20,
   "id": "a0ba2ea5",
   "metadata": {},
   "outputs": [
    {
     "data": {
      "text/plain": [
       "{'Connection': 'keep-alive', 'Content-Length': '2920', 'Server': 'nginx', 'Content-Type': 'text/html; charset=UTF-8', 'Last-Modified': 'Fri, 14 Apr 2023 13:46:07 GMT', 'ETag': 'W/\"6439591f-1d1b\"', 'Expires': 'Fri, 14 Apr 2023 13:52:25 GMT', 'Cache-Control': 'max-age=300', 'Content-Encoding': 'gzip', 'Via': '1.1 varnish, 1.1 varnish', 'Accept-Ranges': 'bytes', 'Date': 'Mon, 17 Apr 2023 13:35:42 GMT', 'Age': '264', 'X-Served-By': 'cache-dfw-kdfw8210096-DFW, cache-mrs10548-MRS', 'X-Cache': 'HIT, HIT', 'X-Cache-Hits': '8411, 2', 'X-Timer': 'S1681738542.243628,VS0,VE0', 'Vary': 'Accept-Encoding'}"
      ]
     },
     "execution_count": 20,
     "metadata": {},
     "output_type": "execute_result"
    }
   ],
   "source": [
    "response.headers"
   ]
  },
  {
   "cell_type": "code",
   "execution_count": 21,
   "id": "a613bfe6",
   "metadata": {},
   "outputs": [
    {
     "data": {
      "text/plain": [
       "'https://xkcd.com/'"
      ]
     },
     "execution_count": 21,
     "metadata": {},
     "output_type": "execute_result"
    }
   ],
   "source": [
    "response.url"
   ]
  },
  {
   "cell_type": "code",
   "execution_count": 38,
   "id": "16dce41a",
   "metadata": {},
   "outputs": [
    {
     "name": "stdout",
     "output_type": "stream",
     "text": [
      "Fri, 14 Apr 2023 13:52:25 GMT\n"
     ]
    }
   ],
   "source": [
    "expire_value = response.headers.get(\"Expires\")\n",
    "print(expire_value)"
   ]
  },
  {
   "cell_type": "markdown",
   "id": "ecaa029b",
   "metadata": {},
   "source": [
    "Provide the HTML codes"
   ]
  },
  {
   "cell_type": "code",
   "execution_count": 39,
   "id": "7b587ed8",
   "metadata": {},
   "outputs": [
    {
     "name": "stdout",
     "output_type": "stream",
     "text": [
      "<!DOCTYPE html>\n",
      "<html>\n",
      "<head>\n",
      "<link rel=\"stylesheet\" type=\"text/css\" href=\"/s/7d94e0.css\" title=\"Default\"/>\n",
      "<title>xkcd: Linguistics Gossip</title>\n",
      "<meta http-equiv=\"X-UA-Compatible\" content=\"IE=edge\"/>\n",
      "<link rel=\"shortcut icon\" href=\"/s/919f27.ico\" type=\"image/x-icon\"/>\n",
      "<link rel=\"icon\" href=\"/s/919f27.ico\" type=\"image/x-icon\"/>\n",
      "<link rel=\"alternate\" type=\"application/atom+xml\" title=\"Atom 1.0\" href=\"/atom.xml\"/>\n",
      "<link rel=\"alternate\" type=\"application/rss+xml\" title=\"RSS 2.0\" href=\"/rss.xml\"/>\n",
      "<!-- <script type=\"text/javascript\" src=\"/s/b66ed7.js\" async></script>\n",
      "<script type=\"text/javascript\" src=\"/s/1b9456.js\" async></script> -->\n",
      "\n",
      "<meta property=\"og:site_name\" content=\"xkcd\">\n",
      "\n",
      "<meta property=\"og:title\" content=\"Linguistics Gossip\">\n",
      "<meta property=\"og:url\" content=\"https://xkcd.com/2763/\">\n",
      "<meta property=\"og:image\" content=\"https://imgs.xkcd.com/comics/linguistics_gossip_2x.png\">\n",
      "<meta name=\"twitter:card\" content=\"summary_large_image\">\n",
      "\n",
      "</head>\n",
      "<body>\n",
      "<div id=\"topContainer\">\n",
      "<div id=\"topLeft\">\n",
      "<ul>\n",
      "<li><a href=\"/archive\">Archive</a></li>\n",
      "<li><a href=\"https://what-if.xkcd.com\">What If?</a></li>\n",
      "<li><a rel=\"author\" href=\"/about\">About</a></li>\n",
      "<li><a href=\"/atom.xml\">Feed</a>&bull;<a href=\"/newsletter/\">Email</a></li>\n",
      "<li><a href=\"https://twitter.com/xkcd/\">TW</a>&bull;<a href=\"https://www.facebook.com/TheXKCD/\">FB</a>&bull;<a href=\"https://www.instagram.com/xkcd/\">IG</a></li>\n",
      "<li><a href=\"/books/\">-Books-</a></li>\n",
      "<li><a href=\"/what-if-2/\">What If? 2</a></li>\n",
      "<li><a href=\"/what-if/\">WI?</a>&bull;<a href=\"/thing-explainer/\">TE</a>&bull;<a href=\"/how-to/\">HT</a></li>\n",
      "</ul>\n",
      "</div>\n",
      "<div id=\"topRight\">\n",
      "<div id=\"masthead\">\n",
      "<span><a href=\"/\"><img src=\"/s/0b7742.png\" alt=\"xkcd.com logo\" height=\"83\" width=\"185\"/></a></span>\n",
      "<span id=\"slogan\">A webcomic of romance,<br/> sarcasm, math, and language.</span>\n",
      "</div>\n",
      "<div id=\"news\">\n",
      "<div id=\"xkcdNews\">\n",
      "<div id=\"countdown\" style=\"float: right; margin-right: 25px; width: 160px; height: 100px; position: relative;\"><a style=\"display: flex;\" href=\"https://xkcd.com/what-if-2/\"><img alt=\"\" style=\"width: 160px; height: 100px;\" src=\"https://xkcd.com/s/5bef6b.png\"><span style=\"position: absolute; left: 50%; top: 50%; transform: translate(-50%, -50%); padding: 0px 8px; color: black; font-family: xkcd-Regular-v3; font-size: 20px; font-variant: small-caps; letter-spacing: 1px; white-space: nowrap; background: white none repeat scroll 0% 0%; border-radius: 99px; display: none;\"></span></a></div>\n",
      "</div>\n",
      "\n",
      "</div>\n",
      "</div>\n",
      "<div id=\"bgLeft\" class=\"bg box\"></div>\n",
      "<div id=\"bgRight\" class=\"bg box\"></div>\n",
      "</div>\n",
      "<div id=\"middleContainer\" class=\"box\">\n",
      "\n",
      "<div id=\"ctitle\">Linguistics Gossip</div>\n",
      "<ul class=\"comicNav\">\n",
      "<li><a href=\"/1/\">|&lt;</a></li>\n",
      "<li><a rel=\"prev\" href=\"/2762/\" accesskey=\"p\">&lt; Prev</a></li>\n",
      "<li><a href=\"//c.xkcd.com/random/comic/\">Random</a></li>\n",
      "<li><a rel=\"next\" href=\"#\" accesskey=\"n\">Next &gt;</a></li>\n",
      "<li><a href=\"/\">&gt;|</a></li>\n",
      "</ul>\n",
      "<div id=\"comic\">\n",
      "<img src=\"//imgs.xkcd.com/comics/linguistics_gossip.png\" title=\"The E&#39;s wedding invitation definitely used the word LOVE more times than was strictly necessary.\" alt=\"Linguistics Gossip\" srcset=\"//imgs.xkcd.com/comics/linguistics_gossip_2x.png 2x\" style=\"image-orientation:none\" />\n",
      "</div>\n",
      "<ul class=\"comicNav\">\n",
      "<li><a href=\"/1/\">|&lt;</a></li>\n",
      "<li><a rel=\"prev\" href=\"/2762/\" accesskey=\"p\">&lt; Prev</a></li>\n",
      "<li><a href=\"//c.xkcd.com/random/comic/\">Random</a></li>\n",
      "<li><a rel=\"next\" href=\"#\" accesskey=\"n\">Next &gt;</a></li>\n",
      "<li><a href=\"/\">&gt;|</a></li>\n",
      "</ul>\n",
      "<br />\n",
      "Permanent link to this comic: <a href=\"https://xkcd.com/2763\">https://xkcd.com/2763/</a><br />\n",
      "Image URL (for hotlinking/embedding): <a href= \"https://imgs.xkcd.com/comics/linguistics_gossip.png\">https://imgs.xkcd.com/comics/linguistics_gossip.png</a>\n",
      "\n",
      "<div id=\"transcript\" style=\"display: none\"></div>\n",
      "</div>\n",
      "<div id=\"bottom\" class=\"box\">\n",
      "<img src=\"//imgs.xkcd.com/s/a899e84.jpg\" width=\"520\" height=\"100\" alt=\"Selected Comics\" usemap=\"#comicmap\"/>\n",
      "<map id=\"comicmap\" name=\"comicmap\">\n",
      "<area shape=\"rect\" coords=\"0,0,100,100\" href=\"/150/\" alt=\"Grownups\"/>\n",
      "<area shape=\"rect\" coords=\"104,0,204,100\" href=\"/730/\" alt=\"Circuit Diagram\"/>\n",
      "<area shape=\"rect\" coords=\"208,0,308,100\" href=\"/162/\" alt=\"Angular Momentum\"/>\n",
      "<area shape=\"rect\" coords=\"312,0,412,100\" href=\"/688/\" alt=\"Self-Description\"/>\n",
      "<area shape=\"rect\" coords=\"416,0,520,100\" href=\"/556/\" alt=\"Alternative Energy Revolution\"/>\n",
      "</map>\n",
      "<br />\n",
      "<a href=\"//xkcd.com/1732/\"><img border=0 src=\"//imgs.xkcd.com/s/temperature.png\" width=\"520\" height=\"100\" alt=\"Earth temperature timeline\"></a>\n",
      "<br />\n",
      "<div>\n",
      "<!--\n",
      "Search comic titles and transcripts:\n",
      "<script type=\"text/javascript\" src=\"//www.google.com/jsapi\"></script>\n",
      "<script type=\"text/javascript\">google.load('search', '1');google.setOnLoadCallback(function() {google.search.CustomSearchControl.attachAutoCompletion('012652707207066138651:zudjtuwe28q',document.getElementById('q'),'cse-search-box');});</script>\n",
      "<form action=\"//www.google.com/cse\" id=\"cse-search-box\">\n",
      "<div>\n",
      "<input type=\"hidden\" name=\"cx\" value=\"012652707207066138651:zudjtuwe28q\"/>\n",
      "<input type=\"hidden\" name=\"ie\" value=\"UTF-8\"/>\n",
      "<input type=\"text\" name=\"q\" id=\"q\" size=\"31\"/>\n",
      "<input type=\"submit\" name=\"sa\" value=\"Search\"/>\n",
      "</div>\n",
      "</form>\n",
      "<script type=\"text/javascript\" src=\"//www.google.com/cse/brand?form=cse-search-box&amp;lang=en\"></script>\n",
      "-->\n",
      "<a href=\"/rss.xml\">RSS Feed</a> - <a href=\"/atom.xml\">Atom Feed</a> - <a href=\"/newsletter/\">Email</a>\n",
      "</div>\n",
      "<br />\n",
      "<div id=\"comicLinks\">\n",
      "Comics I enjoy:<br/>\n",
      "        <a href=\"http://threewordphrase.com/\">Three Word Phrase</a>,\n",
      "        <a href=\"https://www.smbc-comics.com/\">SMBC</a>,\n",
      "        <a href=\"https://www.qwantz.com\">Dinosaur Comics</a>,\n",
      "        <a href=\"https://oglaf.com/\">Oglaf</a> (nsfw),\n",
      "        <a href=\"https://www.asofterworld.com\">A Softer World</a>,\n",
      "        <a href=\"https://buttersafe.com/\">Buttersafe</a>,\n",
      "        <a href=\"https://pbfcomics.com/\">Perry Bible Fellowship</a>,\n",
      "        <a href=\"https://questionablecontent.net/\">Questionable Content</a>,\n",
      "        <a href=\"http://www.buttercupfestival.com/\">Buttercup Festival</a>,\n",
      "        <a href=\"https://www.homestuck.com/\">Homestuck</a>,\n",
      "\t<a href=\"https://www.jspowerhour.com/\">Junior Scientist Power Hour</a>\n",
      "</div>\n",
      "<br />\n",
      "<div id=\"comicLinks\">\n",
      "Other things:<br/>\n",
      "        <a href=\"https://medium.com/civic-tech-thoughts-from-joshdata/so-you-want-to-reform-democracy-7f3b1ef10597\">Tips on technology and government</a>,<br /> \n",
      "        <a href=\"https://www.nytimes.com/interactive/2017/climate/what-is-climate-change.html\">Climate FAQ</a>,\n",
      "\t<a href=\"https://twitter.com/KHayhoe\">Katharine Hayhoe</a>\n",
      "</div>\n",
      "<br />\n",
      "<center>\n",
      "<div id=\"footnote\" style=\"width:70%\">xkcd.com is best viewed with Netscape Navigator 4.0 or below on a Pentium 3&plusmn;1 emulated in Javascript on an Apple IIGS<br />at a screen resolution of 1024x1. Please enable your ad blockers, disable high-heat drying, and remove your device<br />from Airplane Mode and set it to Boat Mode. For security reasons, please leave caps lock on while browsing.</div>\n",
      "</center>\n",
      "<div id=\"licenseText\">\n",
      "<p>\n",
      "This work is licensed under a\n",
      "<a href=\"https://creativecommons.org/licenses/by-nc/2.5/\">Creative Commons Attribution-NonCommercial 2.5 License</a>.\n",
      "</p><p>\n",
      "This means you're free to copy and share these comics (but not to sell them). <a rel=\"license\" href=\"/license.html\">More details</a>.</p>\n",
      "</div>\n",
      "</div>\n",
      "</body>\n",
      "<!-- Layout by Ian Clasbey, davean, and chromakode -->\n",
      "</html>\n",
      "\n",
      "\n"
     ]
    }
   ],
   "source": [
    "import urllib.request as r\n",
    "page = r. urlopen ('https://xkcd.com/')\n",
    "print (page. read () . decode ( 'utf8' ))"
   ]
  },
  {
   "cell_type": "markdown",
   "id": "42144c32",
   "metadata": {},
   "source": [
    "Choose the random picture from the website and get it via a VPI."
   ]
  },
  {
   "cell_type": "code",
   "execution_count": 43,
   "id": "116b5fcc",
   "metadata": {},
   "outputs": [
    {
     "name": "stdout",
     "output_type": "stream",
     "text": [
      "<Response [200]>\n"
     ]
    }
   ],
   "source": [
    "response = requests.get('https://xkcd.com')\n",
    "print (response)"
   ]
  },
  {
   "cell_type": "code",
   "execution_count": 46,
   "id": "e97df0e9",
   "metadata": {},
   "outputs": [
    {
     "ename": "AttributeError",
     "evalue": "'Response' object has no attribute 'open'",
     "output_type": "error",
     "traceback": [
      "\u001b[0;31m---------------------------------------------------------------------------\u001b[0m",
      "\u001b[0;31mAttributeError\u001b[0m                            Traceback (most recent call last)",
      "Cell \u001b[0;32mIn[46], line 1\u001b[0m\n\u001b[0;32m----> 1\u001b[0m \u001b[43mresponse\u001b[49m\u001b[38;5;241;43m.\u001b[39;49m\u001b[43mopen\u001b[49m(urlopen(url))\n\u001b[1;32m      2\u001b[0m response\u001b[38;5;241m.\u001b[39mopen(urlopen(url)\u001b[38;5;241m.\u001b[39mread())\n",
      "\u001b[0;31mAttributeError\u001b[0m: 'Response' object has no attribute 'open'"
     ]
    }
   ],
   "source": [
    "response.open(urlopen(url))\n",
    "response.open(urlopen(url).read())"
   ]
  },
  {
   "cell_type": "code",
   "execution_count": null,
   "id": "70582c17",
   "metadata": {},
   "outputs": [],
   "source": []
  },
  {
   "cell_type": "markdown",
   "id": "c9df50ae",
   "metadata": {},
   "source": [
    "Challenge 2 : Get a password."
   ]
  },
  {
   "cell_type": "markdown",
   "id": "ee3b3c61",
   "metadata": {},
   "source": [
    "\n",
    "Add username and password as parameters\n",
    "Export username and password as dictionary"
   ]
  },
  {
   "cell_type": "markdown",
   "id": "23d0ee46",
   "metadata": {},
   "source": [
    "View url https://httpbin.org/get  "
   ]
  },
  {
   "cell_type": "code",
   "execution_count": null,
   "id": "ca2ad82f",
   "metadata": {},
   "outputs": [],
   "source": [
    " {\n",
    "  \"args\": {}, \n",
    "  \"headers\": {\n",
    "    \"Accept\": \"text/html,application/xhtml+xml,application/xml;q=0.9,*/*;q=0.8\", \n",
    "    \"Accept-Encoding\": \"gzip, deflate, br\", \n",
    "    \"Accept-Language\": \"fr-FR,fr;q=0.9\", \n",
    "    \"Host\": \"httpbin.org\", \n",
    "    \"User-Agent\": \"Mozilla/5.0 (Macintosh; Intel Mac OS X 10_15_7) AppleWebKit/605.1.15 (KHTML, like Gecko) Version/16.3 Safari/605.1.15\", \n",
    "    \"X-Amzn-Trace-Id\": \"Root=1-643d6a25-5dbaacde5fcdcc4918e734c3\"\n",
    "  }, \n",
    "  \"origin\": \"185.146.221.98\", \n",
    "  \"url\": \"https://httpbin.org/get\"\n",
    "}"
   ]
  },
  {
   "cell_type": "markdown",
   "id": "0a9d2d63",
   "metadata": {},
   "source": [
    "Add parameters to the request 'things':2,'total':25"
   ]
  },
  {
   "cell_type": "code",
   "execution_count": 53,
   "id": "44a0a9dd",
   "metadata": {},
   "outputs": [
    {
     "name": "stdout",
     "output_type": "stream",
     "text": [
      "https://httpbin.org/get?lang=en&tag=python\n",
      "{'lang': 'en', 'tag': 'python'}\n"
     ]
    }
   ],
   "source": [
    "from requests.models import PreparedRequest\n",
    "url = 'https://httpbin.org/get'\n",
    "params = {'lang':'en','tag':'python'}\n",
    "req = PreparedRequest()\n",
    "req.prepare_url(url, params)\n",
    "print(req.url)\n",
    "print(params)\n",
    "\n",
    "\n"
   ]
  },
  {
   "cell_type": "markdown",
   "id": "0c6d8504",
   "metadata": {},
   "source": [
    "Add username and password as parameters"
   ]
  },
  {
   "cell_type": "code",
   "execution_count": null,
   "id": "31532fc4",
   "metadata": {},
   "outputs": [],
   "source": []
  },
  {
   "cell_type": "code",
   "execution_count": null,
   "id": "d4ee2db6",
   "metadata": {},
   "outputs": [],
   "source": []
  },
  {
   "cell_type": "code",
   "execution_count": null,
   "id": "ff690837",
   "metadata": {},
   "outputs": [],
   "source": []
  },
  {
   "cell_type": "code",
   "execution_count": null,
   "id": "4a881c1f",
   "metadata": {},
   "outputs": [],
   "source": []
  },
  {
   "cell_type": "code",
   "execution_count": null,
   "id": "f7e2af04",
   "metadata": {},
   "outputs": [],
   "source": []
  },
  {
   "cell_type": "code",
   "execution_count": null,
   "id": "0151b6d2",
   "metadata": {},
   "outputs": [],
   "source": []
  },
  {
   "cell_type": "code",
   "execution_count": null,
   "id": "3b9e548b",
   "metadata": {},
   "outputs": [],
   "source": []
  },
  {
   "cell_type": "code",
   "execution_count": null,
   "id": "58c19129",
   "metadata": {},
   "outputs": [],
   "source": []
  },
  {
   "cell_type": "code",
   "execution_count": null,
   "id": "720ffcfe",
   "metadata": {},
   "outputs": [],
   "source": []
  },
  {
   "cell_type": "code",
   "execution_count": null,
   "id": "3e3c73ce",
   "metadata": {},
   "outputs": [],
   "source": []
  },
  {
   "cell_type": "code",
   "execution_count": null,
   "id": "94287714",
   "metadata": {},
   "outputs": [],
   "source": []
  },
  {
   "cell_type": "code",
   "execution_count": null,
   "id": "969eb1b9",
   "metadata": {},
   "outputs": [],
   "source": []
  },
  {
   "cell_type": "code",
   "execution_count": null,
   "id": "62a46909",
   "metadata": {},
   "outputs": [],
   "source": []
  },
  {
   "cell_type": "code",
   "execution_count": null,
   "id": "4eb740b1",
   "metadata": {},
   "outputs": [],
   "source": []
  },
  {
   "cell_type": "code",
   "execution_count": null,
   "id": "21a80f36",
   "metadata": {},
   "outputs": [],
   "source": []
  },
  {
   "cell_type": "code",
   "execution_count": null,
   "id": "813df431",
   "metadata": {},
   "outputs": [],
   "source": []
  },
  {
   "cell_type": "code",
   "execution_count": null,
   "id": "83feec02",
   "metadata": {},
   "outputs": [],
   "source": []
  },
  {
   "cell_type": "code",
   "execution_count": null,
   "id": "f6b1e6a7",
   "metadata": {},
   "outputs": [],
   "source": []
  },
  {
   "cell_type": "code",
   "execution_count": null,
   "id": "76f4f539",
   "metadata": {},
   "outputs": [],
   "source": []
  },
  {
   "cell_type": "code",
   "execution_count": null,
   "id": "2375ed73",
   "metadata": {},
   "outputs": [],
   "source": []
  },
  {
   "cell_type": "code",
   "execution_count": null,
   "id": "3e161df9",
   "metadata": {},
   "outputs": [],
   "source": []
  },
  {
   "cell_type": "code",
   "execution_count": null,
   "id": "e6da575b",
   "metadata": {},
   "outputs": [],
   "source": []
  },
  {
   "cell_type": "code",
   "execution_count": null,
   "id": "7cab94eb",
   "metadata": {},
   "outputs": [],
   "source": []
  }
 ],
 "metadata": {
  "kernelspec": {
   "display_name": "Python 3 (ipykernel)",
   "language": "python",
   "name": "python3"
  },
  "language_info": {
   "codemirror_mode": {
    "name": "ipython",
    "version": 3
   },
   "file_extension": ".py",
   "mimetype": "text/x-python",
   "name": "python",
   "nbconvert_exporter": "python",
   "pygments_lexer": "ipython3",
   "version": "3.10.9"
  }
 },
 "nbformat": 4,
 "nbformat_minor": 5
}
